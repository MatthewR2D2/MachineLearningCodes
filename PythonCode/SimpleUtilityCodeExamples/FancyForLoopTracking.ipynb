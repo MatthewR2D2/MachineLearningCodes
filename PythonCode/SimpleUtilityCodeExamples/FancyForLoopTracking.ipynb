{
 "cells": [
  {
   "cell_type": "code",
   "execution_count": 1,
   "metadata": {},
   "outputs": [],
   "source": [
    "from IPython.display import clear_output\n",
    "import numpy as np\n",
    "import timeit\n"
   ]
  },
  {
   "cell_type": "code",
   "execution_count": 2,
   "metadata": {},
   "outputs": [],
   "source": [
    "start = timeit.default_timer()"
   ]
  },
  {
   "cell_type": "code",
   "execution_count": 3,
   "metadata": {},
   "outputs": [
    {
     "name": "stdout",
     "output_type": "stream",
     "text": [
      "Progress: 100.0 %\n",
      "Current run time: 0.06  minutes\n",
      "Expected run time; 0.06 minutes\n"
     ]
    }
   ],
   "source": [
    "for i in range(0, 500):\n",
    "    clear_output(wait= True)\n",
    "    i += 1\n",
    "    stop =timeit.default_timer()\n",
    "\n",
    "    if ((i/500) * 100) < 5:\n",
    "        expected_time = \"Calculating...\"\n",
    "    else:\n",
    "        time_perc = timeit.default_timer()\n",
    "        expected_time =np.round(((time_perc - start) / (i/500))/60, 2)\n",
    "    print(\"Progress:\", np.round((i/500) * 100,2), \"%\")\n",
    "    print(\"Current run time:\", np.round((stop - start) /60, 2),\" minutes\")\n",
    "    print(\"Expected run time;\", expected_time, \"minutes\")"
   ]
  },
  {
   "cell_type": "code",
   "execution_count": null,
   "metadata": {},
   "outputs": [],
   "source": []
  }
 ],
 "metadata": {
  "kernelspec": {
   "display_name": "Python 3",
   "language": "python",
   "name": "python3"
  },
  "language_info": {
   "codemirror_mode": {
    "name": "ipython",
    "version": 3
   },
   "file_extension": ".py",
   "mimetype": "text/x-python",
   "name": "python",
   "nbconvert_exporter": "python",
   "pygments_lexer": "ipython3",
   "version": "3.5.6"
  }
 },
 "nbformat": 4,
 "nbformat_minor": 2
}
